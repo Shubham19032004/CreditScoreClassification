{
 "cells": [
  {
   "cell_type": "code",
   "execution_count": 1,
   "id": "b93a138e",
   "metadata": {},
   "outputs": [],
   "source": [
    "import pickle\n",
    "import numpy as np"
   ]
  },
  {
   "cell_type": "code",
   "execution_count": 10,
   "id": "aa013e36",
   "metadata": {},
   "outputs": [],
   "source": [
    "test_input=np.array([1, 23.0, 'Scientist', 19114.12, 1824.8433333333328, 3.0, 4.0, 3.0,\n",
    "       4.0, 3.0, 7.0, 11.27, 4.0, 'Good', 809.98, 26.822619623699016,\n",
    "       265.0, 'No', 49.57494921489417, 21.465380264657146,\n",
    "       'High_spent_Small_value_payments', 312.49408867943663]).reshape(1,22)"
   ]
  },
  {
   "cell_type": "code",
   "execution_count": 11,
   "id": "94caad5e",
   "metadata": {},
   "outputs": [
    {
     "data": {
      "text/plain": [
       "1"
      ]
     },
     "execution_count": 11,
     "metadata": {},
     "output_type": "execute_result"
    }
   ],
   "source": [
    "len(test_input)"
   ]
  },
  {
   "cell_type": "code",
   "execution_count": 12,
   "id": "c0a8fea3",
   "metadata": {},
   "outputs": [],
   "source": [
    "pipe=pickle.load(open('model.pkl','rb'))"
   ]
  },
  {
   "cell_type": "code",
   "execution_count": 13,
   "id": "c552b08e",
   "metadata": {},
   "outputs": [
    {
     "name": "stderr",
     "output_type": "stream",
     "text": [
      "C:\\Users\\shubh\\anaconda3\\envs\\mlprojects\\Lib\\site-packages\\sklearn\\base.py:465: UserWarning: X does not have valid feature names, but OrdinalEncoder was fitted with feature names\n",
      "  warnings.warn(\n",
      "C:\\Users\\shubh\\anaconda3\\envs\\mlprojects\\Lib\\site-packages\\sklearn\\base.py:465: UserWarning: X does not have valid feature names, but OneHotEncoder was fitted with feature names\n",
      "  warnings.warn(\n",
      "C:\\Users\\shubh\\anaconda3\\envs\\mlprojects\\Lib\\site-packages\\sklearn\\base.py:465: UserWarning: X does not have valid feature names, but OneHotEncoder was fitted with feature names\n",
      "  warnings.warn(\n",
      "C:\\Users\\shubh\\anaconda3\\envs\\mlprojects\\Lib\\site-packages\\sklearn\\base.py:465: UserWarning: X does not have valid feature names, but OneHotEncoder was fitted with feature names\n",
      "  warnings.warn(\n"
     ]
    },
    {
     "data": {
      "text/plain": [
       "array(['Good'], dtype=object)"
      ]
     },
     "execution_count": 13,
     "metadata": {},
     "output_type": "execute_result"
    }
   ],
   "source": [
    "pipe.predict(test_input)"
   ]
  },
  {
   "cell_type": "code",
   "execution_count": null,
   "id": "a458845c",
   "metadata": {},
   "outputs": [],
   "source": []
  }
 ],
 "metadata": {
  "kernelspec": {
   "display_name": "mlprojects",
   "language": "python",
   "name": "mlprojects"
  },
  "language_info": {
   "codemirror_mode": {
    "name": "ipython",
    "version": 3
   },
   "file_extension": ".py",
   "mimetype": "text/x-python",
   "name": "python",
   "nbconvert_exporter": "python",
   "pygments_lexer": "ipython3",
   "version": "3.11.5"
  }
 },
 "nbformat": 4,
 "nbformat_minor": 5
}
